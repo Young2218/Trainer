{
 "cells": [
  {
   "cell_type": "code",
   "execution_count": 9,
   "metadata": {},
   "outputs": [],
   "source": [
    "import pandas as pd\n",
    "import os"
   ]
  },
  {
   "cell_type": "code",
   "execution_count": 10,
   "metadata": {},
   "outputs": [],
   "source": [
    "kvasir_path = \"/home/prml/chanyoung/Trainer/_DATA/kvasir-dataset\"\n",
    "\n",
    "path_list = []\n",
    "cls_list = []\n",
    "\n",
    "for name in os.listdir(kvasir_path):\n",
    "    if 'normal' in (name):\n",
    "        cls = 'normal'\n",
    "    elif name == 'esophagitis':\n",
    "        cls = 'esophagitis'\n",
    "    elif name == 'polyps':\n",
    "        cls = 'polyps'\n",
    "    elif name == 'ulcerative-colitis':\n",
    "        cls = 'ulcerative-colitis'\n",
    "    else:\n",
    "        cls = None\n",
    "    \n",
    "    cls_path = os.path.join(kvasir_path, name)\n",
    "    \n",
    "    for file_name in os.listdir(cls_path):\n",
    "        path_list.append(os.path.join(name, file_name))\n",
    "        cls_list.append(cls)\n"
   ]
  },
  {
   "cell_type": "code",
   "execution_count": 11,
   "metadata": {},
   "outputs": [],
   "source": [
    "df = pd.DataFrame({'filename':path_list, 'class':cls_list})\n",
    "df.to_csv(\"kvasir.csv\")"
   ]
  },
  {
   "cell_type": "code",
   "execution_count": 12,
   "metadata": {},
   "outputs": [
    {
     "data": {
      "text/plain": [
       "['normal-cecum',\n",
       " 'esophagitis',\n",
       " 'polyps',\n",
       " 'ulcerative-colitis',\n",
       " 'normal-z-line',\n",
       " 'normal-pylorus']"
      ]
     },
     "execution_count": 12,
     "metadata": {},
     "output_type": "execute_result"
    }
   ],
   "source": [
    "os.listdir(kvasir_path)"
   ]
  },
  {
   "cell_type": "code",
   "execution_count": 19,
   "metadata": {},
   "outputs": [
    {
     "name": "stdout",
     "output_type": "stream",
     "text": [
      "tensor(0.5000)\n",
      "tensor(0.5000)\n",
      "tensor(0.5000)\n"
     ]
    }
   ],
   "source": [
    "import torch\n",
    "from torcheval.metrics import MulticlassF1Score, MulticlassAccuracy, MulticlassRecall\n",
    "\n",
    "f1metric = MulticlassF1Score(num_classes=4)\n",
    "acc_met = MulticlassAccuracy(num_classes=4)\n",
    "recall_met = MulticlassRecall(num_classes=4)\n",
    "\n",
    "input = torch.tensor([[0.9, 0.1, 0, 0], [0.1, 0.2, 0.4, 0.3], [0, 1.0, 0, 0], [0, 0, 0.2, 0.8]])\n",
    "target = torch.tensor([0, 1, 2, 3])\n",
    "\n",
    "f1metric.update(input, target)\n",
    "print(f1metric.compute())\n",
    "\n",
    "acc_met.update(input, target)\n",
    "print(acc_met.compute())\n",
    "\n",
    "recall_met.update(input, target)\n",
    "print(recall_met.compute())"
   ]
  },
  {
   "cell_type": "code",
   "execution_count": null,
   "metadata": {},
   "outputs": [],
   "source": []
  }
 ],
 "metadata": {
  "kernelspec": {
   "display_name": "chanyoung",
   "language": "python",
   "name": "python3"
  },
  "language_info": {
   "codemirror_mode": {
    "name": "ipython",
    "version": 3
   },
   "file_extension": ".py",
   "mimetype": "text/x-python",
   "name": "python",
   "nbconvert_exporter": "python",
   "pygments_lexer": "ipython3",
   "version": "3.8.16"
  },
  "orig_nbformat": 4
 },
 "nbformat": 4,
 "nbformat_minor": 2
}
