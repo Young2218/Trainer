{
 "cells": [
  {
   "cell_type": "code",
   "execution_count": 3,
   "metadata": {},
   "outputs": [],
   "source": [
    "import FinanceDataReader as fdr\n",
    "import pandas as pd\n",
    "import numpy as np\n",
    "from tqdm import tqdm"
   ]
  },
  {
   "cell_type": "code",
   "execution_count": 4,
   "metadata": {},
   "outputs": [],
   "source": [
    "kospi = fdr.StockListing('KOSPI')\n",
    "c1 = kospi['Code'].values\n",
    "\n",
    "kosdaq = fdr.StockListing('KOSDAQ')\n",
    "c2 = kosdaq['Code'].values\n",
    "CODES = np.append(c1, c2)"
   ]
  },
  {
   "cell_type": "code",
   "execution_count": 5,
   "metadata": {},
   "outputs": [
    {
     "data": {
      "text/plain": [
       "2590"
      ]
     },
     "execution_count": 5,
     "metadata": {},
     "output_type": "execute_result"
    }
   ],
   "source": [
    "len(CODES)"
   ]
  },
  {
   "cell_type": "code",
   "execution_count": 8,
   "metadata": {},
   "outputs": [
    {
     "name": "stderr",
     "output_type": "stream",
     "text": [
      "100%|██████████| 2590/2590 [03:48<00:00, 11.32it/s]\n"
     ]
    }
   ],
   "source": [
    "vol_df = pd.DataFrame(columns=CODES)\n",
    "clo_df = pd.DataFrame(columns=CODES)\n",
    "change_df = pd.DataFrame(columns=CODES)\n",
    "\n",
    "for code in tqdm(CODES):\n",
    "    df = fdr.DataReader(code, '2000')\n",
    "    # vol_df[code] = df['Volume']\n",
    "    # clo_df[code] = df['Close']\n",
    "    change_df[code] = df['Change']\n",
    "    \n",
    "# vol_df.to_csv(\"vlo_2000.csv\")\n",
    "# clo_df.to_csv(\"clo_2000.csv\")\n",
    "change_df.to_csv(\"change_2000.csv\")"
   ]
  }
 ],
 "metadata": {
  "kernelspec": {
   "display_name": "young",
   "language": "python",
   "name": "python3"
  },
  "language_info": {
   "codemirror_mode": {
    "name": "ipython",
    "version": 3
   },
   "file_extension": ".py",
   "mimetype": "text/x-python",
   "name": "python",
   "nbconvert_exporter": "python",
   "pygments_lexer": "ipython3",
   "version": "3.11.3"
  },
  "orig_nbformat": 4
 },
 "nbformat": 4,
 "nbformat_minor": 2
}
