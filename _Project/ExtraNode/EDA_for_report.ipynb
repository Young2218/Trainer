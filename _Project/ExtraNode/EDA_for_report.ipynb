{
 "cells": [
  {
   "cell_type": "code",
   "execution_count": 1,
   "metadata": {},
   "outputs": [],
   "source": [
    "import pandas as pd\n",
    "import os"
   ]
  },
  {
   "attachments": {},
   "cell_type": "markdown",
   "metadata": {},
   "source": [
    "# Gachon Polyp"
   ]
  },
  {
   "cell_type": "code",
   "execution_count": 3,
   "metadata": {},
   "outputs": [],
   "source": [
    "root_path = \"/home/prml/chanyoung/Trainer/_DATA/gachon_polyp/data\""
   ]
  },
  {
   "cell_type": "code",
   "execution_count": 5,
   "metadata": {},
   "outputs": [],
   "source": [
    "for a in [\"train\", 'validation', 'test']:\n",
    "    path_list = []\n",
    "    label_list = []\n",
    "    \n",
    "    temp_path = os.path.join(root_path, a)\n",
    "    for class_name in os.listdir(temp_path):\n",
    "        class_path = os.path.join(temp_path, class_name)\n",
    "        for img_name in os.listdir(class_path):\n",
    "            path_list.append(os.path.join(class_path, img_name))\n",
    "            label_list.append(class_name)\n",
    "    \n",
    "    df = pd.DataFrame({'filepath':path_list, 'class':label_list})\n",
    "    df.to_csv(f\"gachon_polyp_{a}.csv\")\n",
    "            "
   ]
  },
  {
   "attachments": {},
   "cell_type": "markdown",
   "metadata": {},
   "source": [
    "# Gachon Covid X-ray"
   ]
  },
  {
   "cell_type": "code",
   "execution_count": 3,
   "metadata": {},
   "outputs": [],
   "source": [
    "root_path = \"/home/prml/chanyoung/Trainer/_DATA/gachon_covid_xray/\"\n",
    "for a in [\"train\", 'val', 'test']:\n",
    "    path_list = []\n",
    "    label_list = []\n",
    "    \n",
    "    temp_path = os.path.join(root_path, a)\n",
    "    for class_name in os.listdir(temp_path):\n",
    "        class_path = os.path.join(temp_path, class_name)\n",
    "        for img_name in os.listdir(class_path):\n",
    "            path_list.append(os.path.join(class_path, img_name))\n",
    "            label_list.append(class_name)\n",
    "    \n",
    "    df = pd.DataFrame({'filepath':path_list, 'class':label_list})\n",
    "    df.to_csv(f\"gachon_covid_xray_{a}.csv\")"
   ]
  },
  {
   "attachments": {},
   "cell_type": "markdown",
   "metadata": {},
   "source": [
    "# 10person LFW"
   ]
  },
  {
   "cell_type": "code",
   "execution_count": 4,
   "metadata": {},
   "outputs": [],
   "source": [
    "root_path = \"/home/prml/chanyoung/Trainer/_DATA/10person\"\n",
    "\n",
    "path_list = []\n",
    "label_list = []\n",
    "    \n",
    "for class_name in os.listdir(root_path):\n",
    "    class_path = os.path.join(root_path, class_name)\n",
    "    for img_name in os.listdir(class_path):\n",
    "        path_list.append(os.path.join(class_path, img_name))\n",
    "        label_list.append(class_name)\n",
    "    \n",
    "    df = pd.DataFrame({'filepath':path_list, 'class':label_list})\n",
    "    df.to_csv(f\"10person.csv\")"
   ]
  }
 ],
 "metadata": {
  "kernelspec": {
   "display_name": "chanyoung",
   "language": "python",
   "name": "python3"
  },
  "language_info": {
   "codemirror_mode": {
    "name": "ipython",
    "version": 3
   },
   "file_extension": ".py",
   "mimetype": "text/x-python",
   "name": "python",
   "nbconvert_exporter": "python",
   "pygments_lexer": "ipython3",
   "version": "3.8.16"
  },
  "orig_nbformat": 4
 },
 "nbformat": 4,
 "nbformat_minor": 2
}
